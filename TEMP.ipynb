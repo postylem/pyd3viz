{
 "cells": [
  {
   "cell_type": "markdown",
   "id": "7c6626e1",
   "metadata": {},
   "source": [
    "Test visualization using JS"
   ]
  },
  {
   "cell_type": "code",
   "execution_count": 1,
   "id": "819b4c34",
   "metadata": {},
   "outputs": [],
   "source": [
    "%load_ext autoreload\n",
    "%autoreload 2"
   ]
  },
  {
   "cell_type": "code",
   "execution_count": 3,
   "id": "395d5bee",
   "metadata": {},
   "outputs": [
    {
     "data": {
      "application/javascript": "\n        if (typeof d3 === 'undefined') {{\n\n    console.log('D3 not found. Running d3_setup');\n\n    if (typeof require === 'undefined') {\n        console.log('require not available, using script tags for d3 and jquery');\n        var d3script = document.createElement('script');\n        d3script.src = 'https://d3js.org/d3.v7.min.js';\n        d3script.onload = function() {\n            console.log('D3 loaded');\n        };\n        document.head.appendChild(script);\n    \n        var jqscript = document.createElement('script');\n        jqscript.src = 'jquery-3.7.1.min.js';\n        document.head.appendChild(jqscript);\n    \n    } else {\n        console.log('require available, loading d3');\n        require.config({ paths: { d3: 'https://d3js.org/d3.v7.min' } });\n    \n    }\n\n}} else {{\n    console.log('D3 found');\n}}\n\n // load D3 and jQuery\n        function D3VizPrep(element, vizFn, data, opts) {\n    // Ensure element is jQuery-wrapped\n    // It seems it is wrapped by default in VSCode but not in jupyter notebook/lab\n    var el = element.get ? element : $(element);\n    // Clear any existing SVG first\n    el.html(\"\");\n    \n\n    if (typeof d3 !== 'undefined') {\n        vizFn(d3, el, data, opts);\n    } else {\n        require(['d3'], function (d3) {\n            vizFn(d3, el, data, opts);\n        });\n    }\n\n}  // loads D3VizPrep function\n        function vizFn(d3, element, data, opts) {\n    console.log(\"opts:\", opts)\n    var svg = d3.select(element.get(0)).append('svg')\n        .attr('width', opts.width)\n        .attr('height', opts.height);\n    svg.selectAll('circle')\n        .data(data)\n        .enter()\n        .append('circle')\n        .attr(\"cx\", function(d, i) {return 40 * (i + 1);})\n        .attr(\"cy\", function(d, i) {return 100 + 30 * (i % 3 - 1);})\n        .style(\"fill\", \"#1570a4\")\n        .transition().duration(2000)\n        .attr(\"r\", function(d) {return 2*d;});\n} // loads vizFn function\n\n        function runViz() {\n            (function(element) {\n                // 'element' is the name of the div (?) that \n                // jupyter exposes where the viz wil be put\n                D3VizPrep(element, vizFn, [1, 2, 4, 1, 6, 8, 4, 2, 1], {\"width\": 400, \"height\": 200});\n            })(element);\n        }\n\n        console.log('Running viz...');\n        runViz();\n        ",
      "text/plain": [
       "<IPython.core.display.Javascript object>"
      ]
     },
     "execution_count": 3,
     "metadata": {},
     "output_type": "execute_result"
    }
   ],
   "source": [
    "from d3viz import D3VizableCircles\n",
    "\n",
    "D = D3VizableCircles([1, 2, 4, 1, 6, 8, 4, 2, 1])\n",
    "D.viz(width=400, height=200)"
   ]
  },
  {
   "cell_type": "code",
   "execution_count": null,
   "id": "2915b971-1374-42b5-a72d-a51817428c6b",
   "metadata": {},
   "outputs": [],
   "source": []
  }
 ],
 "metadata": {
  "kernelspec": {
   "display_name": "Python 3",
   "language": "python",
   "name": "python3"
  },
  "language_info": {
   "codemirror_mode": {
    "name": "ipython",
    "version": 3
   },
   "file_extension": ".py",
   "mimetype": "text/x-python",
   "name": "python",
   "nbconvert_exporter": "python",
   "pygments_lexer": "ipython3",
   "version": "3.11.10"
  }
 },
 "nbformat": 4,
 "nbformat_minor": 5
}
