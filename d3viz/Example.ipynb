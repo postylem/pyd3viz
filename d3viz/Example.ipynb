{
 "cells": [
  {
   "cell_type": "markdown",
   "id": "7c6626e1",
   "metadata": {},
   "source": [
    "Example visualization"
   ]
  },
  {
   "cell_type": "code",
   "execution_count": 4,
   "id": "395d5bee",
   "metadata": {},
   "outputs": [
    {
     "data": {
      "application/javascript": "\n        if (typeof d3 === 'undefined') {\n    {\n\n        const D3 = 'https://d3js.org/d3.v7.min';\n        console.log('D3 not found. Using', D3 + \".js\");\n\n        if (typeof require === 'undefined') {\n            // console.log('require not available, using script tags for d3 and jquery');\n            var d3script = document.createElement('script');\n            d3script.src = D3URL + '.js';\n            document.head.appendChild(script);\n\n            var jqscript = document.createElement('script');\n            jqscript.src = 'jquery-3.7.1.min.js';\n            document.head.appendChild(jqscript);\n\n        } else {\n            // console.log('require available, loading d3');\n            require.config({ paths: { d3: D3 } });\n\n        }\n\n    }\n} else {\n    {\n        console.log('D3 found');\n        console.log('jQuery assumed present');\n    }\n}\n\n // load D3 and jQuery\n        function D3VizPrep(element, vizConstructor, data, opts) {\n    // Ensure element is jQuery-wrapped\n    // It seems it is wrapped by default in VSCode but not in jupyter notebook/lab\n    var el = element.get ? element : $(element);\n    // Clear any existing SVG first\n    el.html(\"\");\n    \n    console.log(\"making viz\", vizConstructor.name);\n    if (typeof d3 !== 'undefined') {\n        const v = new vizConstructor(d3, el);\n        v.make(data, opts);\n    } else {\n        require(['d3'], function (d3) {\n            const v = new vizConstructor(d3, el);\n            v.make(data, opts);\n        });\n    }\n\n}  // loads D3VizPrep function\n        // load viz constructor, which must be named `name`\n        class exampleCircles {\n    constructor(d3, element) {\n\n        this.rootElement = element\n        \n        // Must have a this.make function\n        // which takes in data and opts (both dictionaries)\n        // and builds visualization on the element using d3\n        this.make = function (data, opts) {\n            const default_opts = {width: 200, height: 200};\n            opts = {...default_opts, ...opts};\n            console.log(\"using opts:\", opts);\n\n            const N = data.length\n            const NCOL = 3\n            const MAX = Math.max(...data)\n            var svg = d3.select(this.rootElement.get(0)).append('svg')\n                .attr('width', opts.width)\n                .attr('height', opts.height);\n\n            // Add tooltip div\n            const tooltip = d3.select(\"body\").append(\"div\")\n                .attr(\"class\", \"tooltip\")\n                .style(\"position\", \"absolute\")\n                .style(\"color\", \"black\")\n                .style(\"background-color\", \"white\")\n                .style(\"border\", \"solid\")\n\n            svg.selectAll('circle')\n                .data(data)\n                .enter()\n                .append('circle')\n                .attr(\"cx\", function (d, i) { return (i %  NCOL + 1/2) * (opts.width / (NCOL)); })\n                .attr(\"cy\", function (d, i) { return (Math.floor(i /  NCOL) + 1/2) * (opts.height / Math.ceil(N/ NCOL)); })\n                .style(\"fill\", function(d, i) { return d3.interpolateViridis(d/MAX); })\n                // Add mouseover events\n                .on(\"mouseover\", function(event, d) {\n                    const color = d3.interpolateViridis(d/MAX);\n                    tooltip.transition()\n                        .duration(200)\n                        .style(\"opacity\", .9);\n                    tooltip.html(\"Value: \" + d)\n                        .style(\"left\", (event.pageX + 10) + \"px\")\n                        .style(\"top\", (event.pageY - 28) + \"px\")\n                        .style(\"border-color\", color);\n                })\n                .on(\"mouseout\", function(d) {\n                    tooltip.transition()\n                        .duration(500)\n                        .style(\"opacity\", 0);\n                })\n                .transition().duration(2500)\n                .attr(\"r\", function (d) { return d; });\n        };\n    }\n} \n\n        function runViz() {\n            (function(element) {\n                // 'element' is the HTML element that\n                // jupyter exposes where the visualization will be put\n                D3VizPrep(element, exampleCircles, [5, 10, 7, 18, 20, 12, 8, 14, 6], {});\n            })(element);\n        }\n\n        runViz();\n        ",
      "text/plain": [
       "<IPython.core.display.Javascript object>"
      ]
     },
     "execution_count": 4,
     "metadata": {},
     "output_type": "execute_result"
    }
   ],
   "source": [
    "from d3viz import ExampleCircles\n",
    "\n",
    "radius_data = [5, 10, 7, 18, 20, 12, 8, 14, 6]\n",
    "D = ExampleCircles(radius_data)\n",
    "D.viz()"
   ]
  }
 ],
 "metadata": {
  "kernelspec": {
   "display_name": "Python 3",
   "language": "python",
   "name": "python3"
  },
  "language_info": {
   "codemirror_mode": {
    "name": "ipython",
    "version": 3
   },
   "file_extension": ".py",
   "mimetype": "text/x-python",
   "name": "python",
   "nbconvert_exporter": "python",
   "pygments_lexer": "ipython3",
   "version": "3.11.10"
  }
 },
 "nbformat": 4,
 "nbformat_minor": 5
}
